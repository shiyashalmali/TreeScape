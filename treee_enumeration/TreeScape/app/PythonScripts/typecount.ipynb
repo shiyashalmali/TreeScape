{
 "cells": [
  {
   "cell_type": "code",
   "id": "11c66deb-476d-4cd2-a718-156515fe6b73",
   "metadata": {
    "ExecuteTime": {
     "end_time": "2024-11-26T18:25:44.677802Z",
     "start_time": "2024-11-26T18:25:44.504414Z"
    }
   },
   "source": [
    "from ultralytics import YOLO\n",
    "\n",
    "# Path to your trained model\n",
    "model_path = r'count.pt'  # Update with the correct path\n",
    "\n",
    "# Load the trained YOLO model\n",
    "model = YOLO(model_path)\n",
    "\n",
    "# Path to the image you want to process\n",
    "image_path = r'qaz.jpg'  # Update with the correct path to your image\n",
    "\n",
    "# Use the model to predict the image\n",
    "results = model.predict(image_path)  # This returns a list of results\n",
    "\n",
    "# Define tree class names (use correct class indices based on your model's configuration)\n",
    "tree_classes = ['Coniferous Tree', 'Deciduous Tree']\n",
    "\n",
    "# Initialize counters for both tree types\n",
    "coniferous_tree_count = 0\n",
    "deciduous_tree_count = 0\n",
    "\n",
    "# Iterate over the results and check for detected objects\n",
    "for result in results:\n",
    "    # Access the predicted class labels (each label is a class index)\n",
    "    detected_classes = result.boxes.cls.numpy()\n",
    "\n",
    "    # Count the trees based on their classes\n",
    "    for cls in detected_classes:\n",
    "        class_name = result.names[int(cls)]  # Get class name using the class index\n",
    "        if class_name == \"Coniferous Tree\":\n",
    "            coniferous_tree_count += 1\n",
    "        elif class_name == \"Deciduous Tree\":\n",
    "            deciduous_tree_count += 1\n",
    "\n",
    "# Print the results\n",
    "print(f\"Coniferous Trees detected: {coniferous_tree_count}\")\n",
    "print(f\"Deciduous Trees detected: {deciduous_tree_count}\")\n"
   ],
   "outputs": [
    {
     "name": "stdout",
     "output_type": "stream",
     "text": [
      "\n",
      "image 1/1 C:\\Users\\rithi\\OneDrive\\Desktop\\treee_enumeration (2)\\treee_enumeration\\treee_enumeration\\TreeScape\\app\\PythonScripts\\qaz.jpg: 320x320 43 Trees, 47.9ms\n",
      "Speed: 0.0ms preprocess, 47.9ms inference, 0.0ms postprocess per image at shape (1, 3, 320, 320)\n",
      "Coniferous Trees detected: 0\n",
      "Deciduous Trees detected: 0\n"
     ]
    }
   ],
   "execution_count": 4
  },
  {
   "cell_type": "code",
   "id": "30dbdf0f-9043-4b6b-82f7-1335a3b06c77",
   "metadata": {
    "ExecuteTime": {
     "end_time": "2024-11-26T18:25:44.693432Z",
     "start_time": "2024-11-26T18:25:44.677802Z"
    }
   },
   "source": [],
   "outputs": [],
   "execution_count": null
  }
 ],
 "metadata": {
  "kernelspec": {
   "display_name": "Python 3 (ipykernel)",
   "language": "python",
   "name": "python3"
  },
  "language_info": {
   "codemirror_mode": {
    "name": "ipython",
    "version": 3
   },
   "file_extension": ".py",
   "mimetype": "text/x-python",
   "name": "python",
   "nbconvert_exporter": "python",
   "pygments_lexer": "ipython3",
   "version": "3.12.4"
  }
 },
 "nbformat": 4,
 "nbformat_minor": 5
}
