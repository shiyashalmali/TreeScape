{
 "cells": [
  {
   "cell_type": "code",
   "id": "f394763c-0aa4-4d1d-8397-356cb1d572cb",
   "metadata": {
    "ExecuteTime": {
     "end_time": "2024-11-26T18:25:37.048572Z",
     "start_time": "2024-11-26T18:25:36.836550Z"
    }
   },
   "source": [
    "from ultralytics import YOLO\n",
    "\n",
    "def count_trees_in_image(image_path, model_weights_path):\n",
    "\n",
    "    model = YOLO(model_weights_path)\n",
    "\n",
    "    # Predict using the test image\n",
    "    results = model.predict(\n",
    "        source=image_path,     # Path to the image file\n",
    "        device='cpu',           # 'cpu' or 'cuda' (for GPU)\n",
    "        save=True               # Save the predicted results\n",
    "    )\n",
    "\n",
    "    # The predicted results contain the bounding boxes of the detected objects\n",
    "    # Count the number of bounding boxes (each box represents a detected tree)\n",
    "    tree_count = len(results[0].boxes)  # Counting the number of detected bounding boxes\n",
    "    \n",
    "    return tree_count\n",
    "\n",
    "# Example usage\n",
    "image_path = 'qaz.jpg'  # Path to the image\n",
    "model_weights_path = 'count.pt'  # Path to YOLO model weights\n",
    "\n",
    "# Count the trees in the image\n",
    "tree_count = count_trees_in_image(image_path, model_weights_path)\n",
    "print(f\"Number of trees detected: {tree_count}\")"
   ],
   "outputs": [
    {
     "name": "stdout",
     "output_type": "stream",
     "text": [
      "\n",
      "image 1/1 C:\\Users\\rithi\\OneDrive\\Desktop\\treee_enumeration (2)\\treee_enumeration\\treee_enumeration\\TreeScape\\app\\PythonScripts\\qaz.jpg: 320x320 43 Trees, 38.1ms\n",
      "Speed: 0.0ms preprocess, 38.1ms inference, 16.3ms postprocess per image at shape (1, 3, 320, 320)\n",
      "Results saved to \u001B[1mruns\\detect\\predict3\u001B[0m\n",
      "Number of trees detected: 43\n"
     ]
    }
   ],
   "execution_count": 2
  },
  {
   "cell_type": "code",
   "id": "3785d22e-e8bb-4c92-b136-3974b346a853",
   "metadata": {
    "ExecuteTime": {
     "end_time": "2024-11-26T18:25:37.080377Z",
     "start_time": "2024-11-26T18:25:37.064354Z"
    }
   },
   "source": [],
   "outputs": [],
   "execution_count": null
  }
 ],
 "metadata": {
  "kernelspec": {
   "display_name": "Python 3 (ipykernel)",
   "language": "python",
   "name": "python3"
  },
  "language_info": {
   "codemirror_mode": {
    "name": "ipython",
    "version": 3
   },
   "file_extension": ".py",
   "mimetype": "text/x-python",
   "name": "python",
   "nbconvert_exporter": "python",
   "pygments_lexer": "ipython3",
   "version": "3.12.4"
  }
 },
 "nbformat": 4,
 "nbformat_minor": 5
}
